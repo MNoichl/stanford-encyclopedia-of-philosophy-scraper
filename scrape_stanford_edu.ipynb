{
 "cells": [
  {
   "cell_type": "code",
   "execution_count": null,
   "metadata": {},
   "outputs": [],
   "source": [
    "import pandas as pd\n",
    "import numpy as np\n",
    "from bs4 import BeautifulSoup\n",
    "import requests\n",
    "import csv\n",
    "import re\n",
    "import time"
   ]
  },
  {
   "cell_type": "code",
   "execution_count": null,
   "metadata": {},
   "outputs": [],
   "source": [
    "response = requests.get(\"https://plato.stanford.edu/contents.html\")\n",
    "print(response)\n",
    "soup = BeautifulSoup(response.content, \"html.parser\")\n",
    "l = []\n",
    "for link in soup.findAll('a'):\n",
    "    l.append(str(link.get('href')))\n",
    "L = []\n",
    "for s in l:\n",
    "    if s.find('entries') != -1:\n",
    "        L.append(s)\n",
    "    \n",
    "L = list(set(L))\n",
    "print(len(L))"
   ]
  },
  {
   "cell_type": "code",
   "execution_count": null,
   "metadata": {},
   "outputs": [],
   "source": [
    "!mkdir results"
   ]
  },
  {
   "cell_type": "code",
   "execution_count": null,
   "metadata": {},
   "outputs": [],
   "source": [
    "\n",
    "base = 'https://plato.stanford.edu/'\n",
    "\n",
    "for link in L:\n",
    "    url = base+str(link)\n",
    "    print(url)\n",
    "    \n",
    "    \n",
    "    response = requests.get(url)\n",
    "\n",
    "    soup = BeautifulSoup(response.content, \"html.parser\")\n",
    "    title = str(soup.find('h1').get_text()).replace(\"/\",\"-\")\n",
    "\n",
    "    pagetext = soup.findAll('p')\n",
    "    texts = []\n",
    "    for a in pagetext:\n",
    "        text = a.get_text()\n",
    "        texts.append(str(text).replace(\"\\n\",\" \"))\n",
    "    texta=' '.join(texts)\n",
    "    with open('results/'+title+\".txt\", \"w\", encoding=\"utf-8\") as f:\n",
    "        f.write(texta)\n",
    "    time.sleep(2)"
   ]
  },
  {
   "cell_type": "code",
   "execution_count": null,
   "metadata": {},
   "outputs": [],
   "source": []
  }
 ],
 "metadata": {
  "kernelspec": {
   "display_name": "Python 3",
   "language": "python",
   "name": "python3"
  },
  "language_info": {
   "codemirror_mode": {
    "name": "ipython",
    "version": 3
   },
   "file_extension": ".py",
   "mimetype": "text/x-python",
   "name": "python",
   "nbconvert_exporter": "python",
   "pygments_lexer": "ipython3",
   "version": "3.7.6"
  },
  "varInspector": {
   "cols": {
    "lenName": 16,
    "lenType": 16,
    "lenVar": 40
   },
   "kernels_config": {
    "python": {
     "delete_cmd_postfix": "",
     "delete_cmd_prefix": "del ",
     "library": "var_list.py",
     "varRefreshCmd": "print(var_dic_list())"
    },
    "r": {
     "delete_cmd_postfix": ") ",
     "delete_cmd_prefix": "rm(",
     "library": "var_list.r",
     "varRefreshCmd": "cat(var_dic_list()) "
    }
   },
   "types_to_exclude": [
    "module",
    "function",
    "builtin_function_or_method",
    "instance",
    "_Feature"
   ],
   "window_display": false
  }
 },
 "nbformat": 4,
 "nbformat_minor": 2
}
